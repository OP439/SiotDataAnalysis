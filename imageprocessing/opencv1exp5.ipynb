{
 "cells": [
  {
   "cell_type": "code",
   "execution_count": 1,
   "metadata": {},
   "outputs": [],
   "source": [
    "import cv2\n",
    "import matplotlib.pyplot as plt\n",
    "import numpy as np\n",
    "import os  "
   ]
  },
  {
   "cell_type": "code",
   "execution_count": 2,
   "metadata": {},
   "outputs": [
    {
     "name": "stdout",
     "output_type": "stream",
     "text": [
      "['17020663231845.jpg', '17020689657785.jpg', '17020663407570.jpg', '17020698937665.jpg', '17020671221932.jpg', '17020653015818.jpg', '17020681728389.jpg', '17020699641161.jpg', '17020662353332.jpg', '17020699113126.jpg', '17020663173950.jpg', '17020663290454.jpg', '17020663114288.jpg', '17020690302189.jpg', '17020689423280.jpg', '17020689835255.jpg', '17020681903927.jpg', '17020690360644.jpg', '17020671339005.jpg', '17020699874275.jpg', '17020690419682.jpg', '17020671632823.jpg', '17020662997821.jpg', '17020700166448.jpg', '17020699054452.jpg', '17020653601827.jpg', '17020653425732.jpg', '17020653484856.jpg', '17020690536729.jpg', '17020662236753.jpg', '17020680615866.jpg', '17020698703527.jpg', '17020654538274.jpg', '17020663758793.jpg', '17020689950838.jpg', '17020690067787.jpg', '17020700049442.jpg', '17020699289919.jpg', '17020662587673.jpg', '17020680733888.jpg', '17020653776059.jpg', '17020654362081.jpg', '17020680675349.jpg', '17020652829034.jpg', '17020654302706.jpg', '17020662939573.jpg', '17020691004436.jpg', '17020653950782.jpg', '17020671866577.jpg', '17020689599797.jpg', '17020672394462.jpg', '17020699347753.jpg', '17020653074317.jpg', '17020690184685.jpg', '17020663700012.jpg', '17020672511816.jpg', '17020681026940.jpg', '17020662060865.jpg', '17020662119197.jpg', '17020672335668.jpg', '17020698340672.jpg', '17020671749206.jpg', '17020689365172.jpg', '17020698468602.jpg', '17020672746129.jpg', '17020654479664.jpg', '17020681669399.jpg', '17020689775390.jpg', '17020689540595.jpg', '17020681083645.jpg', '17020699406341.jpg', '17020654009767.jpg', '17020662880668.jpg', '17020681962373.jpg', '17020654420937.jpg', '17020698820235.jpg', '17020663465967.jpg', '17020680326235.jpg', '17020698586131.jpg', '17020680498151.jpg', '17020681552217.jpg', '17020671456004.jpg', '17020690828896.jpg', '17020699581562.jpg', '17020661932172.jpg', '17020680556946.jpg', '17020653542657.jpg', '17020672276766.jpg', '17020681493902.jpg', '17020698995899.jpg', '17020689892109.jpg', '17020663524472.jpg', '17020654185551.jpg', '17020652957681.jpg', '17020681376445.jpg', '17020653717973.jpg', '17020699815963.jpg', '17020680907949.jpg', '17020671035188.jpg', '17020654068590.jpg', '17020663055889.jpg', '17020653834795.jpg', '17020681141905.jpg', '17020671163252.jpg', '17020671924940.jpg', '17020680849370.jpg', '17020680264381.jpg', '17020699523286.jpg', '17020690770437.jpg', '17020672629681.jpg', '17020672159129.jpg', '17020663641297.jpg', '17020698761297.jpg', '17020662646376.jpg', '17020672803699.jpg', '17020663582729.jpg', '17020671397408.jpg', '17020654126996.jpg', '17020671983522.jpg', '17020672217572.jpg', '17020671573066.jpg', '17020690654547.jpg', '17020681845504.jpg', '17020699229911.jpg', '17020699931973.jpg', '17020653309014.jpg', '17020680790967.jpg', '17020654243964.jpg', '17020698527196.jpg', '17020690946066.jpg', '17020662295800.jpg', '17020690887941.jpg', '17020699990738.jpg', '17020671280461.jpg', '17020699171623.jpg', '17020672043667.jpg', '17020653892709.jpg', '17020690711917.jpg', '17020681318049.jpg', '17020672100364.jpg', '17020698644475.jpg', '17020699465299.jpg', '17020698878434.jpg', '17020681610782.jpg', '17020690009253.jpg', '17020689716659.jpg', '17020680380845.jpg', '17020690126313.jpg', '17020662821817.jpg', '17020672453257.jpg', '17020680439655.jpg', '17020681200818.jpg', '17020691062867.jpg', '17020680135924.jpg', '17020672686767.jpg', '17020662704495.jpg', '17020662470384.jpg', '17020690477542.jpg', '17020671807898.jpg', '17020689483013.jpg', '17020690595075.jpg', '17020662411960.jpg', '17020653251155.jpg', '17020662762856.jpg', '17020653659926.jpg', '17020680966524.jpg', '17020662177796.jpg', '17020671691399.jpg', '17020653132674.jpg', '17020690244071.jpg', '17020654654928.jpg', '17020672569862.jpg', '17020653192749.jpg', '17020681435027.jpg', '17020689237249.jpg', '17020662529026.jpg', '17020681787176.jpg', '17020700107888.jpg', '17020681259576.jpg', '17020663349298.jpg', '17020654596346.jpg', '17020672862401.jpg', '17020653367619.jpg', '17020671514472.jpg', '17020699757900.jpg', '17020699698803.jpg']\n"
     ]
    }
   ],
   "source": [
    "print(os.listdir('assetsexp5'))"
   ]
  },
  {
   "cell_type": "code",
   "execution_count": 3,
   "metadata": {},
   "outputs": [],
   "source": [
    "for filename in os.listdir('assetsexp5'): \n",
    "    try:\n",
    "        # print(filename)\n",
    "        x = 2200\n",
    "        w = 300 ## for cropping the images\n",
    "        img = cv2.imread('assetsexp5/'+filename)\n",
    "        #imgplot = plt.imshow(img)\n",
    "        #plt.show()\n",
    "        img = img[:, x:x+w]\n",
    "        img1 = cv2.cvtColor(img, cv2.COLOR_BGR2RGB)\n",
    "        # print(img.shape)\n",
    "\n",
    "        #imgplot = plt.imshow(img1)\n",
    "        #plt.show()\n",
    "        # print('canny')\n",
    "        img2 = cv2.cvtColor(img, cv2.COLOR_BGR2GRAY)\n",
    "        # plt.imshow(canny)\n",
    "        # plt.show()\n",
    "        #canny = cv2.Canny(img1, 100, 200)\n",
    "        # plt.imshow(canny)\n",
    "        # plt.show()\n",
    "\n",
    "        # access the pixel located at x=50, y=20\n",
    "        (r, g, b) = img1[2200, 150]\n",
    "        # print(\"Pixel at (50, 20) - Red: {}, Green: {}, Blue: {}\".format(r, g, b))\n",
    "\n",
    "        lower = np.array([40, 0, 0])\n",
    "        upper = np.array([255, 50, 50])\n",
    "        shapeMask = cv2.inRange(img1, lower, upper)\n",
    "        # plt.imshow(shapeMask)\n",
    "        cont,_ = cv2.findContours(shapeMask.copy(), cv2.RETR_EXTERNAL, cv2.CHAIN_APPROX_SIMPLE)\n",
    "        cont_img = cv2.drawContours(img1, cont, -1, (0, 255, 0), 2)\n",
    "        # plt.imshow(cont_img)   \n",
    "\n",
    "        c = max(cont, key=cv2.contourArea)\n",
    "        x,y,w,h = cv2.boundingRect(c)\n",
    "        # print(y)\n",
    "        cv2.rectangle(img1,(x,y),(x+w,y+h),(0,255,0),2)\n",
    "        # plt.imshow(img1)\n",
    "        \n",
    "        filename = f'{y}size'+filename\n",
    "        filepath = os.path.join('processedimagesexp5', filename)\n",
    "\n",
    "        cv2.imwrite(filepath, cv2.cvtColor(img1, cv2.COLOR_RGB2BGR))\n",
    "    except:\n",
    "        ValueError"
   ]
  }
 ],
 "metadata": {
  "kernelspec": {
   "display_name": "Python 3",
   "language": "python",
   "name": "python3"
  },
  "language_info": {
   "codemirror_mode": {
    "name": "ipython",
    "version": 3
   },
   "file_extension": ".py",
   "mimetype": "text/x-python",
   "name": "python",
   "nbconvert_exporter": "python",
   "pygments_lexer": "ipython3",
   "version": "3.9.0"
  }
 },
 "nbformat": 4,
 "nbformat_minor": 2
}
