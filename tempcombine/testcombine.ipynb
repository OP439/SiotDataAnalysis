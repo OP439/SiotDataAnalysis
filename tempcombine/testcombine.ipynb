{
 "cells": [
  {
   "cell_type": "code",
   "execution_count": 507,
   "metadata": {},
   "outputs": [],
   "source": [
    "import pandas as pd\n",
    "import os\n",
    "import csv\n",
    "import matplotlib.pyplot as plt\n",
    "import matplotlib.patches as mpatches"
   ]
  },
  {
   "cell_type": "code",
   "execution_count": 508,
   "metadata": {},
   "outputs": [],
   "source": [
    "df = pd.read_csv('Temperature_Close_to_1701991757633.csv')\n",
    "df['time'] = pd.to_datetime(df['time'])\n",
    "\n",
    "experiment_csvs = ['exp1vel.csv', 'exp2vel.csv', 'exp3vel.csv', 'exp4vel.csv']\n",
    "\n",
    "##experiment 4 is an outlier because the temp sensor was underneath the tube\n",
    "\n",
    "experiment_data = []\n",
    "\n",
    "for filename in experiment_csvs:\n",
    "    file = open(\"/Users/owainpill/Documents/GitHub/SiotDataAnalysis/graphing/\"+filename, \"r\")\n",
    "    data = list(csv.reader(file, delimiter=\",\"))\n",
    "    experiment_data.append(data)\n",
    "    file.close()\n",
    "\n",
    "# for filename in os.listdir('/Users/owainpill/Documents/GitHub/SiotDataAnalysis/imageprocessing/processedimages'):"
   ]
  },
  {
   "cell_type": "code",
   "execution_count": 509,
   "metadata": {},
   "outputs": [
    {
     "name": "stdout",
     "output_type": "stream",
     "text": [
      "['-10.346428571428573', '-10.267240612003745', '-2.926045883940621', '-0.5855507468937596', '0.518224412802726', '-10.921428571428573', '-11.498508853681267', '-10.9952935694315', '-10.217645231438336', '-9.269602387932695', '-7.600925309546', '-4.79905813731115', '-1.1396344778697718', '-0.6424179745608315', '-10.505952380952381', '-10.256498673740055', '-10.339978593699103', '-8.492857142857142', '-6.10294968189705', '-2.5953511098701663', '-0.8137512215552145', 'nan', '-7.61604938271605', '-9.710330866955188', '-7.647530288909599', '-7.044240669240669', '-0.2777176457627586', '0.015687095723393326']\n"
     ]
    }
   ],
   "source": [
    "##convert list of lists to dataframe\n",
    "\n",
    "velocity_values = []\n",
    "corresponding_timestamps = []\n",
    "\n",
    "for experiment in experiment_data:\n",
    "    # print(experiment)\n",
    "    for value in experiment:\n",
    "        # print(value)\n",
    "        velocity_values.append(value[::2])\n",
    "        corresponding_timestamps.append(pd.to_datetime(value[1::2]))\n",
    "\n",
    "velocity_values = [item for sublist in velocity_values for item in sublist]#flatten list of lists\n",
    "corresponding_timestamps = [item for sublist in corresponding_timestamps for item in sublist]\n",
    "print(velocity_values)\n",
    "\n",
    "experiment_df = pd.DataFrame(\n",
    "    {'velocity': velocity_values,\n",
    "     'timestamp': corresponding_timestamps\n",
    "    })"
   ]
  },
  {
   "cell_type": "code",
   "execution_count": 510,
   "metadata": {},
   "outputs": [],
   "source": [
    "### round timestamp to nearest minute to join with temperature data\n",
    "\n",
    "experiment_df['timestamprounded'] = experiment_df['timestamp'].dt.round('min')"
   ]
  },
  {
   "cell_type": "code",
   "execution_count": 511,
   "metadata": {},
   "outputs": [],
   "source": [
    "### join with temperature data to see effect of temperature-time on curing\n",
    "\n",
    "df_joined = pd.merge(df, experiment_df, how='left', left_on='time', right_on='timestamprounded')\n",
    "df_joined = df_joined.iloc[::-1] #reverse order of rows so that earliest time is first\n",
    "df_joined = df_joined.reset_index(drop=True)"
   ]
  },
  {
   "cell_type": "code",
   "execution_count": 512,
   "metadata": {},
   "outputs": [],
   "source": [
    "# df_joined = df_joined.assign(temptosum=None)\n",
    "# index_at_last = 0\n",
    "\n",
    "# for index, row in df_joined.iterrows():\n",
    "#     if not pd.isnull(row['timestamprounded']) and index_at_last < 45:\n",
    "#         time_at_last = row['timestamprounded']\n",
    "#         # df_joined.at[index-10, 'temptosum'] = row['tempnear']\n",
    "#         df_joined.loc[index-15, 'temptosum'] = df_joined.loc[index-15, 'tempnear']\n",
    "#         #print(row)\n",
    "\n",
    "# index_at_last = 0\n",
    "\n",
    "# for index, row in df_joined.iterrows():\n",
    "#     if not pd.isnull(row['timestamprounded']) and index_at_last < 45:\n",
    "\n",
    "\n",
    "# for index, row in df_joined.iterrows():\n",
    "#     if not pd.isnull(row['temptosum']):\n",
    "#         print(row['temptosum'])\n",
    "#         print(row)\n",
    "\n",
    "# df_joined"
   ]
  },
  {
   "cell_type": "code",
   "execution_count": 513,
   "metadata": {},
   "outputs": [],
   "source": [
    "# df_joined = df_joined.assign(temptosum=None)\n",
    "\n",
    "# sum_temp_flag = False\n",
    "\n",
    "# for index, row in df_joined.iterrows():\n",
    "#     if sum_temp_flag == True:\n",
    "#         df_joined.loc[index, 'temptosum'] = row['tempnear']\n",
    "#         sum_temp_flag = False\n",
    "#     elif not pd.isnull(df_joined.loc[index+12, 'timestamprounded']):"
   ]
  },
  {
   "cell_type": "code",
   "execution_count": 514,
   "metadata": {},
   "outputs": [],
   "source": [
    "## add to each row the time of the next printer rotation\n",
    "\n",
    "df_joined = df_joined.assign(timeatnext=None)\n",
    "\n",
    "\n",
    "for index, row in df_joined.iterrows():\n",
    "    if not pd.isnull(row['timestamprounded']):\n",
    "        for index2, row2 in df_joined.iterrows():\n",
    "            if index2 > index and not pd.isnull(row2['timestamprounded']):\n",
    "                df_joined.loc[index, 'timeatnext'] = row2['timestamprounded']\n",
    "                break"
   ]
  },
  {
   "cell_type": "code",
   "execution_count": 515,
   "metadata": {},
   "outputs": [
    {
     "name": "stdout",
     "output_type": "stream",
     "text": [
      "eheheheeh\n",
      "eheheheeh\n",
      "eheheheeh\n",
      "eheheheeh\n",
      "eheheheeh\n",
      "eheheheeh\n",
      "eheheheeh\n",
      "eheheheeh\n",
      "eheheheeh\n",
      "eheheheeh\n",
      "eheheheeh\n",
      "eheheheeh\n",
      "eheheheeh\n",
      "eheheheeh\n",
      "eheheheeh\n",
      "eheheheeh\n",
      "eheheheeh\n",
      "eheheheeh\n",
      "eheheheeh\n",
      "eheheheeh\n",
      "eheheheeh\n",
      "eheheheeh\n",
      "eheheheeh\n",
      "eheheheeh\n"
     ]
    }
   ],
   "source": [
    "df_joined = df_joined.assign(temptosum=None)\n",
    "\n",
    "sum_temp_flag = False\n",
    "\n",
    "# for index, row in df_joined.iterrows():\n",
    "#     try:\n",
    "#         print(df_joined.loc[index+12, 'timeatnext'] - df_joined.loc[index+12, 'timestamprounded'])\n",
    "#         print(pd.Timedelta(minutes=45))\n",
    "#         if row['timeatnext'] - row['timestamprounded'] > pd.Timedelta(minutes=45):\n",
    "#             sum_temp_flag = False\n",
    "#             print('eheh')\n",
    "#         elif sum_temp_flag == True:\n",
    "#             df_joined.loc[index, 'temptosum'] = row['tempnear']\n",
    "#             sum_temp_flag = False\n",
    "#         elif df_joined.loc[index+12, 'timeatnext'] - df_joined.loc[index+12, 'timestamprounded'] < pd.Timedelta(minutes=45):\n",
    "#             sum_temp_flag = True\n",
    "#             print('eheheheeh')\n",
    "#     except:\n",
    "#         pass\n",
    "\n",
    "df_joined = df_joined.assign(temptosum=None)\n",
    "df_joined = df_joined.assign(experimentactive=None)\n",
    "\n",
    "\n",
    "for index, row in df_joined.iterrows():\n",
    "    try:\n",
    "        # print(df_joined.loc[index+12, 'timeatnext'] - df_joined.loc[index+12, 'timestamprounded'])\n",
    "        # print(pd.Timedelta(minutes=45))\n",
    "        \n",
    "        if df_joined.loc[index, 'timeatnext'] - df_joined.loc[index, 'timestamprounded'] < pd.Timedelta(minutes=45):\n",
    "            sum_temp_flag = True\n",
    "            print('eheheheeh')\n",
    "        else:\n",
    "            sum_temp_flag = False\n",
    "        # if row['timeatnext'] - row['timestamprounded'] > pd.Timedelta(minutes=45):\n",
    "        #     sum_temp_flag = False\n",
    "        #     print('eheh')\n",
    "        \n",
    "    except:\n",
    "        pass\n",
    "\n",
    "    if sum_temp_flag == True:\n",
    "            df_joined.loc[index, 'temptosum'] = row['tempnear']\n",
    "            df_joined.loc[index, 'experimentactive'] = 1\n",
    "\n",
    "\n",
    "for index, row in df_joined.iterrows():\n",
    "    try:\n",
    "        if not pd.isnull(df_joined.loc[index+12, 'temptosum']):\n",
    "            df_joined.loc[index, 'temptosum'] = row['tempnear']\n",
    "            df_joined.loc[index, 'experimentactive'] = 1\n",
    "        if not pd.isnull(row['timestamprounded']):\n",
    "            df_joined.loc[index, 'temptosum'] = row['tempnear']\n",
    "            df_joined.loc[index, 'experimentactive'] = 1\n",
    "    except:\n",
    "        ValueError, KeyError\n",
    "\n",
    "\n",
    "##unlucky case where there is a sensor outage near the very beginning of the experiment\n",
    "for index,row in df_joined.iterrows():\n",
    "    try:\n",
    "        if row['experimentactive'] != 1 and df_joined.loc[index-1, 'experimentactive'] == 1 and df_joined.loc[index+1, 'experimentactive'] == 1:\n",
    "            df_joined.loc[index, 'experimentactive'] = df_joined.loc[index-1, 'experimentactive']\n",
    "    except:\n",
    "        ValueError, KeyError\n",
    "\n",
    "## interpolate where there were sensor outages\n",
    "for index,row in df_joined.iterrows():\n",
    "    try:\n",
    "        if pd.isnull(row['temptosum']) and row['experimentactive'] == 1:\n",
    "            df_joined.loc[index, 'temptosum'] = df_joined.loc[index-1, 'temptosum']\n",
    "    except:\n",
    "        ValueError, KeyError\n",
    "\n",
    "## this is filling in some nan gaps but also avergaing everything together which is not desired\n",
    "# for index, row in df_joined.iterrows():\n",
    "#     try:\n",
    "#         if not pd.isnull(df_joined.loc[index-1, 'temptosum']) and not pd.isnull(df_joined.loc[index+1, 'temptosum']):\n",
    "#             df_joined.loc[index, 'temptosum'] = (df_joined.loc[index-1, 'temptosum'] + df_joined.loc[index+1, 'temptosum'])/2\n",
    "#     except:\n",
    "#         ValueError, KeyError\n",
    "\n",
    "### fills in everything - not desired\n",
    "# for index,row in df_joined.iterrows():\n",
    "#     try:\n",
    "#         if pd.isnull(row['temptosum']):\n",
    "#             df_joined.loc[index, 'temptosum'] = df_joined.loc[index-1, 'temptosum']\n",
    "#     except:\n",
    "#         ValueError, KeyError\n",
    "\n",
    "        \n",
    "# df_joined['temptosum'] = df_joined['temptosum'].interpolate(method='linear', limit=2, limit_direction='both')\n",
    "\n",
    "# for index, row in df_joined.iterrows():\n",
    "#     if not pd.isnull(row['temptosum']):\n",
    "#         # print(row['temptosum'])\n",
    "#         # print(row)"
   ]
  },
  {
   "cell_type": "code",
   "execution_count": 516,
   "metadata": {},
   "outputs": [
    {
     "name": "stderr",
     "output_type": "stream",
     "text": [
      "/var/folders/6n/df4bbytx0tqfkq05t0fhwb080000gn/T/ipykernel_59610/824787195.py:6: FutureWarning: Setting an item of incompatible dtype is deprecated and will raise in a future error of pandas. Value '14.099999999999996' has dtype incompatible with int64, please explicitly cast to a compatible dtype first.\n",
      "  df_joined.loc[index,'tempsummed'] = df_joined.loc[index-1,'tempsummed'] + df_joined.loc[index,'temptosum']\n"
     ]
    }
   ],
   "source": [
    "df_joined = df_joined.assign(tempsummed=0)\n",
    "\n",
    "\n",
    "for index,row in df_joined.iterrows():\n",
    "    try:\n",
    "        df_joined.loc[index,'tempsummed'] = df_joined.loc[index-1,'tempsummed'] + df_joined.loc[index,'temptosum']\n",
    "    except:\n",
    "        ValueError, KeyError"
   ]
  },
  {
   "cell_type": "code",
   "execution_count": 517,
   "metadata": {},
   "outputs": [
    {
     "name": "stdout",
     "output_type": "stream",
     "text": [
      "ghadf\n",
      "ghadf\n",
      "ghadf\n"
     ]
    },
    {
     "data": {
      "image/png": "[encoded data removed]",
      "text/plain": [
       "<Figure size 640x480 with 1 Axes>"
      ]
     },
     "metadata": {},
     "output_type": "display_data"
    }
   ],
   "source": [
    "# columns = ['A', 'B', 'C']  # Example column names\n",
    "# empty_df = pd.DataFrame(columns=columns)\n",
    "\n",
    "columns = ['time', 'velocity', 'heattime']\n",
    "df_heattime = pd.DataFrame(columns=columns)\n",
    "\n",
    "for index,row in df_joined.iterrows():\n",
    "    if not pd.isnull(row['timestamprounded']):\n",
    "        # df.loc[i] = ['name' + str(i)] + list(randint(10, size=2))\n",
    "        df_heattime.loc[index] = [row['timestamprounded'], row['velocity'], row['tempsummed']]\n",
    "\n",
    "\n",
    "df_heattime['velocity'] = df_heattime['velocity'].astype(float)\n",
    "df_heattime['heattime'] = df_heattime['heattime'].astype(float)\n",
    "df_heattime['time'] = pd.to_datetime(df_heattime['time'])\n",
    "\n",
    "df_heattime = df_heattime.sort_values(by=['time'])\n",
    "df_heattime = df_heattime.reset_index(drop=True)\n",
    "\n",
    "\n",
    "counter = 0\n",
    "### assign different identifier to each experiment\n",
    "for index,row in df_heattime.iterrows():\n",
    "    try:  \n",
    "        df_heattime.loc[index, 'experiment'] = counter\n",
    "        if df_heattime.loc[index+1, 'time'] - df_heattime.loc[index, 'time'] > pd.Timedelta(minutes=45):\n",
    "            counter += 1\n",
    "            print('ghadf')\n",
    "    except:\n",
    "        ValueError, KeyError\n",
    "\n",
    "## specify the color for each exerpiment - will always need to be updated\n",
    "color_dict = {0: 'red', 1: 'blue', 2: 'green', 3: 'black', 4: 'orange', 5: 'purple', 6: 'pink', 7: 'yellow', 8: 'brown', 9: 'grey'}\n",
    "\n",
    "df_heattime['experimentcolor'] = df_heattime['experiment'].map(color_dict)\n",
    "\n",
    "\n",
    "for color,subset in df_heattime.groupby('experimentcolor'):\n",
    "    plt.scatter(subset['heattime'], subset['velocity'], color=color)  \n",
    "\n",
    "\n",
    "# unique_values = df['Values'].unique()\n",
    "# legend_handles = [mpatches.Patch(color=plt.cm.viridis(i / len(unique_values)), label=f'Value: {value}') for i, value in enumerate(unique_values)]\n",
    "# plt.legend(handles=legend_handles, title='Legend', loc='upper right')\n",
    "unique_values = df_heattime['experiment'].unique()\n",
    "legend_handles = [mpatches.Patch(color=color_dict[i], label=f'Experiment: {value+1}') for i, value in enumerate(unique_values)]\n",
    "plt.legend(handles=legend_handles, title='Legend', bbox_to_anchor=(1.05,1), loc='upper left')\n",
    "plt.tight_layout()\n",
    "plt.grid(True)"
   ]
  },
  {
   "cell_type": "code",
   "execution_count": 518,
   "metadata": {},
   "outputs": [],
   "source": [
    "df_heattime.to_csv('df_heattime.csv', index=False)"
   ]
  }
 ],
 "metadata": {
  "kernelspec": {
   "display_name": "env1op",
   "language": "python",
   "name": "python3"
  },
  "language_info": {
   "codemirror_mode": {
    "name": "ipython",
    "version": 3
   },
   "file_extension": ".py",
   "mimetype": "text/x-python",
   "name": "python",
   "nbconvert_exporter": "python",
   "pygments_lexer": "ipython3",
   "version": "3.9.0"
  }
 },
 "nbformat": 4,
 "nbformat_minor": 2
}
